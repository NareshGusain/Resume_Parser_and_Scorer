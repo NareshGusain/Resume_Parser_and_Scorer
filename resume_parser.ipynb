{
 "cells": [
  {
   "cell_type": "code",
   "execution_count": 1,
   "metadata": {},
   "outputs": [],
   "source": [
    "import PyPDF2\n",
    "import re"
   ]
  },
  {
   "cell_type": "code",
   "execution_count": 2,
   "metadata": {},
   "outputs": [],
   "source": [
    "file_path = \"Naresh_Resume.pdf\""
   ]
  },
  {
   "cell_type": "code",
   "execution_count": 3,
   "metadata": {},
   "outputs": [],
   "source": [
    "def extract_text_from_pdf(file_path):\n",
    "    pdf_file_obj = open(file_path, 'rb')\n",
    "    pdf_reader = PyPDF2.PdfReader(pdf_file_obj)\n",
    "    text = \"\"\n",
    "    for page_num in range(len(pdf_reader.pages)):\n",
    "        page_obj = pdf_reader.pages[page_num]\n",
    "        text += page_obj.extract_text()  # Use extract_text instead of extractText\n",
    "    pdf_file_obj.close()\n",
    "    return text"
   ]
  },
  {
   "cell_type": "code",
   "execution_count": 4,
   "metadata": {},
   "outputs": [
    {
     "name": "stdout",
     "output_type": "stream",
     "text": [
      "Naresh Gusain @NareshGusain00 nareshgusain00@gmail.com\n",
      " NareshGusain\n",
      "EDUCATION\n",
      "Thakur College of Engineering and Technology, Mumbai\n",
      "B.Tech  - Artificial intelligence & Data Science2021 - 2025\n",
      "CG PA: 8.00\n",
      "EXPERIENCE\n",
      "PROJECTSCONTENT & GRAPHIC DESIGNER CONTENT & GRAPHIC DESIGNER \n",
      "@RG LECTURES\n",
      "I Created Designs and Informative content related to Physics that is to be\n",
      "delivered to students. (Class 12th)FreelancerPRESS LEAD PRESS LEAD \n",
      "@Google Developer Student Clubs - Thakur College of Engineering and technology\n",
      " Created content pieces for Social Media of college community named\n",
      "(GDSC - TCET)\n",
      "I enjoy creating Collages, Event Flyers, Reels, Instagram stories, Headers for\n",
      "various Social Media platform like LinkedIn, Twitter, InstagramAug 2022 - May 2023\n",
      "Diabetes Prediction with Logistic Regression (GitHub Link)\n",
      "The model was able to achieve an accuracy of 96%. \n",
      "Deployed the model in a web app using the Streamlit framework.\n",
      "Also build the same with a Neural network with 85% accuracy. \n",
      "Quora - Identifying  Duplicate Pair of Question \n",
      "Learned and Implemented  Feature engineering\n",
      "Achieved an Accuracy of 73% using XgBoost ML Algorithm\n",
      "CryptoCurrency Price Predition using LSTM (Github Link)\n",
      "Worked with CryptoCompare API to fetch Bitcoin prices data\n",
      "Created LSTM (Neural Network) model predict closing price of next day\n",
      "Made charts of previous three years using Plotly library DATA SCIENCE | M.L ENTHUISAST | GRAPHIC DESIGNERN A R E S H  G U S A IN\n",
      "PROFILE SUMMARY\n",
      "I am a 3rd year Engineering student, who is passionate about analyzing data, building Machine learning\n",
      "Models to solve real-world problems and also a skilled graphic designer with experience.\n",
      "SKILLS\n",
      "Languages/Tools: Python, C++,SQL, HTML, CSS, JavaScript\n",
      "Data Science: EDA, Data visualization, Machine Learning, Neural Networks, NLP\n",
      "Miscellaneous: Git, Streamlit, Ms-office, Tableau, Problem Solving, Time ManagementLibraries/Framework: TensorFlow, Scikit-Learn, NLTK, Pandas, NumPy, Plotly, Matplotlib, Bootstrap\n",
      "Performed EDA on WhatsApp Group Chat (GitHub Link)\n",
      "Exported my Group chat in Vscode and converted my chats data into Pandas dataframe.\n",
      "Did data preprocessing & Regex Operation to structure data into Date, Message, Sender_name\n",
      "Gained Insights Like Person with max. messages count, Overall Frequency of messages in the group\n"
     ]
    }
   ],
   "source": [
    "text_data = extract_text_from_pdf(file_path)\n",
    "print(text_data)"
   ]
  },
  {
   "cell_type": "code",
   "execution_count": 6,
   "metadata": {},
   "outputs": [
    {
     "name": "stdout",
     "output_type": "stream",
     "text": [
      "Skills: Languages/Tools: Python, C++,SQL, HTML, CSS, JavaScript\n",
      "Data Science: EDA, Data visualization, Machine Learning, Neural Networks, NLP\n",
      "Miscellaneous: Git, Streamlit, Ms-office, Tableau, Problem Solving, Time ManagementLibraries/Framework: TensorFlow, Scikit-Learn, NLTK, Pandas, NumPy, Plotly, Matplotlib, Bootstrap\n",
      "Performed EDA on WhatsApp Group Chat (GitHub Link)\n",
      "Exported my Group chat in Vscode and converted my chats data into Pandas dataframe.\n",
      "Did data preprocessing & Regex Operation to structure data into Date, Message, Sender_name\n",
      "Gained Insights Like Person with max. messages count, Overall Frequency of messages in the group\n"
     ]
    }
   ],
   "source": [
    "name_pattern = re.compile(r'^\\s*([\\w\\s]+)\\s*@')\n",
    "name_match = name_pattern.search(text_data)\n",
    "name = name_match.group(1) if name_match else None\n",
    "\n",
    "# Extract Email\n",
    "email_pattern = re.compile(r'\\b[A-Za-z0-9._%+-]+@[A-Za-z0-9.-]+\\.[A-Z|a-z]{2,}\\b')\n",
    "email_match = email_pattern.search(text_data)\n",
    "email = email_match.group() if email_match else None\n",
    "\n",
    "# Extract Experience\n",
    "experience_pattern = re.compile(r'\\bEXPERIENCE\\b(.+?)\\bSKILLS\\b', re.DOTALL)\n",
    "experience_match = experience_pattern.search(text_data)\n",
    "experience = experience_match.group(1).strip() if experience_match else None\n",
    "\n",
    "# Extract Skills\n",
    "skills_pattern = re.compile(r'\\bSKILLS\\b(.+)', re.DOTALL)\n",
    "skills_match = skills_pattern.search(text_data)\n",
    "skills = skills_match.group(1).strip() if skills_match else None\n",
    "\n",
    "print(\"Name:\", name)\n",
    "print(\"Email:\", email)\n",
    "print(\"Experience:\", experience)\n",
    "print(\"Skills:\", skills)"
   ]
  }
 ],
 "metadata": {
  "kernelspec": {
   "display_name": "Python 3",
   "language": "python",
   "name": "python3"
  },
  "language_info": {
   "codemirror_mode": {
    "name": "ipython",
    "version": 3
   },
   "file_extension": ".py",
   "mimetype": "text/x-python",
   "name": "python",
   "nbconvert_exporter": "python",
   "pygments_lexer": "ipython3",
   "version": "3.11.4"
  }
 },
 "nbformat": 4,
 "nbformat_minor": 2
}
